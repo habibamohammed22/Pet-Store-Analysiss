{
 "cells": [
  {
   "cell_type": "code",
   "execution_count": 11,
   "id": "5388b91d-965d-40e3-9c3d-e1ae66f08d64",
   "metadata": {},
   "outputs": [],
   "source": [
    "import pandas as pd"
   ]
  },
  {
   "cell_type": "code",
   "execution_count": 12,
   "id": "0c491eb2-763f-4c09-95f9-d266ad15da02",
   "metadata": {},
   "outputs": [],
   "source": [
    "df = pd.read_csv('state_region_mapping.csv')\n"
   ]
  },
  {
   "cell_type": "code",
   "execution_count": 13,
   "id": "1f4fd854-d347-49a3-bfb4-d89ea8cc805e",
   "metadata": {},
   "outputs": [
    {
     "name": "stdout",
     "output_type": "stream",
     "text": [
      "  State Abbreviations Region                State\n",
      "0                  AE  Other  Armed Forces Europe\n",
      "1                  AK  Other               Alaska\n",
      "2                  AK  Other               Alaska\n",
      "3                  AL   East              Alabama\n",
      "4                  AL   East              Alabama\n"
     ]
    }
   ],
   "source": [
    "df.columns = df.columns.str.strip()\n",
    "columns_to_drop = ['Order State'] if 'Order State' in df.columns else []\n",
    "df.drop(columns=columns_to_drop, inplace=True)\n",
    "print(df.head())\n"
   ]
  },
  {
   "cell_type": "code",
   "execution_count": 3,
   "id": "a1400830-dd31-4536-baa7-eb1adf081a6f",
   "metadata": {},
   "outputs": [
    {
     "name": "stdout",
     "output_type": "stream",
     "text": [
      "       State Abbreviations Region       State\n",
      "count                  192    192         192\n",
      "unique                  54      4          54\n",
      "top                     CA   East  California\n",
      "freq                     7     76           7\n"
     ]
    }
   ],
   "source": [
    "print(df.describe())\n"
   ]
  },
  {
   "cell_type": "code",
   "execution_count": 4,
   "id": "38657ae3-8a82-4b3e-a0f5-3fb1a804bb83",
   "metadata": {},
   "outputs": [
    {
     "name": "stdout",
     "output_type": "stream",
     "text": [
      "<class 'pandas.core.frame.DataFrame'>\n",
      "RangeIndex: 192 entries, 0 to 191\n",
      "Data columns (total 3 columns):\n",
      " #   Column               Non-Null Count  Dtype \n",
      "---  ------               --------------  ----- \n",
      " 0   State Abbreviations  192 non-null    object\n",
      " 1   Region               192 non-null    object\n",
      " 2   State                192 non-null    object\n",
      "dtypes: object(3)\n",
      "memory usage: 4.6+ KB\n",
      "None\n"
     ]
    }
   ],
   "source": [
    "print(df.info())  "
   ]
  },
  {
   "cell_type": "code",
   "execution_count": 5,
   "id": "4fb384fb-0350-4bb6-be1b-ea3d497d01fe",
   "metadata": {},
   "outputs": [
    {
     "name": "stdout",
     "output_type": "stream",
     "text": [
      "  State Abbreviations   Region                State\n",
      "0                  AE    Other  Armed Forces Europe\n",
      "1                  AK    Other               Alaska\n",
      "3                  AL     East              Alabama\n",
      "6                  AR  Central             Arkansas\n",
      "7                  AZ     West              Arizona\n"
     ]
    }
   ],
   "source": [
    "df.drop_duplicates(inplace=True)\n",
    "df.dropna(inplace=True)\n",
    "df['State'] = df['State'].str.strip().str.title()\n",
    "print(df.head())\n"
   ]
  },
  {
   "cell_type": "markdown",
   "id": "58baf163-4092-47a5-ac6c-8633c41969b0",
   "metadata": {},
   "source": [
    "Data Analysiss"
   ]
  },
  {
   "cell_type": "code",
   "execution_count": 10,
   "id": "77fa6671-fd1b-4784-8e77-0f39638b61a9",
   "metadata": {},
   "outputs": [
    {
     "name": "stdout",
     "output_type": "stream",
     "text": [
      "Unique number of states: 54\n",
      "Distribution by Regions:\n",
      "Region\n",
      "East       20\n",
      "Central    19\n",
      "West       10\n",
      "Other       5\n",
      "Name: count, dtype: int64\n"
     ]
    }
   ],
   "source": [
    "\n",
    "print(\"Unique number of states:\", df['State'].nunique())\n",
    "print (\"Distribution by Regions:\")\n",
    "print(df['Region'].value_counts())\n"
   ]
  },
  {
   "cell_type": "markdown",
   "id": "f268e94f-79d3-446a-9f35-11d5ad1305f4",
   "metadata": {},
   "source": [
    "Results Analysis:\n",
    "-High Concentration in East & Central:** Indicates higher population or economic activity.  \n",
    "-Fewer States in the West:** Likely due to geography (mountains, deserts) or lower population density.  \n",
    "Operational Decisions Based on Data:\n",
    "-Growth & Expansion: Target regions with fewer states but high economic growth for investment.\n",
    "-Resource Allocation: Distribute budgets and resources based on regional needs.\n",
    "-Market & Industry Analysis: Use regression to analyze how geography impacts sales & market trends."
   ]
  },
  {
   "cell_type": "code",
   "execution_count": 14,
   "id": "aa91cf6a-33ef-4869-805b-b1b3ae92196a",
   "metadata": {},
   "outputs": [],
   "source": [
    "df.to_excel('state_region_mapping clean.xlsx', index=False, engine='openpyxl')\n"
   ]
  },
  {
   "cell_type": "code",
   "execution_count": null,
   "id": "32e25ff2-916d-463b-bb5f-2a994092e3d8",
   "metadata": {},
   "outputs": [],
   "source": []
  }
 ],
 "metadata": {
  "kernelspec": {
   "display_name": "Python 3 (ipykernel)",
   "language": "python",
   "name": "python3"
  },
  "language_info": {
   "codemirror_mode": {
    "name": "ipython",
    "version": 3
   },
   "file_extension": ".py",
   "mimetype": "text/x-python",
   "name": "python",
   "nbconvert_exporter": "python",
   "pygments_lexer": "ipython3",
   "version": "3.11.7"
  }
 },
 "nbformat": 4,
 "nbformat_minor": 5
}
